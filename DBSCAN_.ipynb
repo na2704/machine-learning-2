{
 "cells": [
  {
   "cell_type": "markdown",
   "metadata": {},
   "source": [
    "#### EX2: Ý nghĩa tham số radius, min sample trong thuật toán dbscan? Nếu chỉ số lớn, nhỏ ảnh hưởng thế nào tới thuật toán?\n",
    "* tham số radius r (Eps):Khoảng cách chỉ định các vùng lân cận. Hai điểm được coi là hàng xóm nếu khoảng cách giữa chúng nhỏ hơn hoặc bằng eps.\n",
    "* min sample (minPts): Số điểm dữ liệu tối thiểu để xác định một cụm. \n",
    "\n",
    "Hai tham số trên giúp xác định ba loại điểm:\n",
    "- điểm lõi (core): Đây là một điểm có có ít nhất số điểm minPts (bao gồm cả chính điểm đó) trong khu vực xung quanh của nó với bán kính eps.\n",
    "- điểm biên (border): Đây là một điểm có ít nhất một điểm lõi nằm ở vùng lân cận epsilon nhưng mật độ không đủ minPts điểm.\n",
    "- điểm nhiễu (noise): Đây là điểm không phải là điểm lõi hay điểm biên.\n",
    "\n",
    "minPts có giá trị lớn hơn thường tốt hơn cho các tập dữ liệu có nhiễu và kết quả phân cụm thường hợp lý hơn. Trong trường hợp dữ liệu có nhiễu hoặc có nhiều quan sát lặp lại thì cần lựa chọn giá trị minPts lớn hơn nữa tương ứng với những bộ dữ liệu lớn.\n",
    "\n",
    "Nếu radius được chọn quá nhỏ, một phần lớn dữ liệu sẽ không được phân cụm và được xem là nhiễu; trong khi đối với giá trị  quá cao, các cụm sẽ hợp nhất và phần lớn các điểm sẽ nằm trong cùng một cụm.\n",
    "#### EX3: Biến đổi lại và so sánh ba thuật toán: kmean, GMM, dbscan. Khi nào nên sử dụng thuật toán nào? cho ví dụ?\n",
    "* K-means :\n",
    "    - pros:\n",
    "        + Quickest centroid based algorithm\n",
    "        + Very lucid and can scale up for large amount of dataset\n",
    "        + Reduces intra-cluster variance measure\n",
    "    - Cons: \n",
    "        + Suffers when there is noise in the data\n",
    "        + Outliers can never be identified\n",
    "        + Even though it reduces intra-cluster variance, it faces local mimimum problem\n",
    "        + Not ideal for datasets of non-convex shapes\n",
    "        + Complicated to predict best K value\n",
    "    - Use Cases: Even cluster size, flat geometry, not too many clusters and general-purpose\n",
    "    - example: \n",
    "        + Segmentation of customers in business\n",
    "        + Image segmentation\n",
    "        + Genetic analysis in medicine\n",
    "        + Anomaly detection.\n",
    "* DBSCAN:\n",
    "    - pros: \n",
    "        + Resistant to outliers\n",
    "        + Can handle clusters of different shapes and sizes\n",
    "        + Not required to specify the number of cluster\n",
    "    - cons: \n",
    "        + Highly sensitive to the two-parameters: Radius and Min sample\n",
    "        + DBSCAN cannot cluster datasets well with large variances in densities\n",
    "    - use cases: Uneven cluster sizes and non- flat geometry\n",
    "    - example: \n",
    "* GMM:\n",
    "    - pros: \n",
    "        + Robust to outliers\n",
    "        + Provides the BIC score for selecting parameters\n",
    "        + Converges fast given good initialization\n",
    "    - cons: The algorithm is highly complex and can be slow\n",
    "    - use cases: Good for density estimation and flat geometry\n",
    "\n",
    "\n",
    "\n",
    "\n"
   ]
  },
  {
   "cell_type": "code",
   "execution_count": null,
   "metadata": {},
   "outputs": [],
   "source": []
  }
 ],
 "metadata": {
  "kernelspec": {
   "display_name": "Python 3",
   "language": "python",
   "name": "python3"
  },
  "language_info": {
   "codemirror_mode": {
    "name": "ipython",
    "version": 3
   },
   "file_extension": ".py",
   "mimetype": "text/x-python",
   "name": "python",
   "nbconvert_exporter": "python",
   "pygments_lexer": "ipython3",
   "version": "3.7.6"
  }
 },
 "nbformat": 4,
 "nbformat_minor": 4
}
