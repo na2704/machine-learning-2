{
 "cells": [
  {
   "cell_type": "code",
   "execution_count": 148,
   "metadata": {},
   "outputs": [],
   "source": [
    "import numpy as np\n",
    "import matplotlib.pyplot as plt\n",
    "import numpy.random as rnd\n",
    "import pandas as pd"
   ]
  },
  {
   "cell_type": "code",
   "execution_count": 149,
   "metadata": {},
   "outputs": [
    {
     "name": "stdout",
     "output_type": "stream",
     "text": [
      "Mu  (2,)\n",
      "Sigma  (2, 2)\n",
      "Data shape  (100, 2)\n"
     ]
    }
   ],
   "source": [
    "# Create random 2d data\n",
    "mu = np.array([10,13])\n",
    "sigma = np.array([[3.5, -1.8], [-1.8,3.5]])\n",
    "\n",
    "print(\"Mu \", mu.shape)\n",
    "print(\"Sigma \", sigma.shape)\n",
    "\n",
    "# Create 100 samples using mean and sigma\n",
    "org_data = rnd.multivariate_normal(mu, sigma, size=(100))\n",
    "print(\"Data shape \", org_data.shape)"
   ]
  },
  {
   "cell_type": "code",
   "execution_count": 150,
   "metadata": {},
   "outputs": [
    {
     "data": {
      "text/plain": [
       "array([[10.0633074 , 13.69496755],\n",
       "       [12.30710538, 12.46273721],\n",
       "       [ 7.96738524, 12.73068981],\n",
       "       [11.01894326, 10.52590315],\n",
       "       [11.59410528, 13.66811973],\n",
       "       [ 7.91420871, 11.45643107],\n",
       "       [10.12464294, 13.01045496],\n",
       "       [11.46949168, 13.18291064],\n",
       "       [11.22122736,  9.79049964],\n",
       "       [10.14709235, 18.03772161],\n",
       "       [12.43947559, 13.0282946 ],\n",
       "       [12.24006529,  9.88663618],\n",
       "       [10.02585969, 13.80423894],\n",
       "       [ 9.83819334, 13.52572905],\n",
       "       [11.33703408,  7.65259257],\n",
       "       [10.42464691, 13.24141978],\n",
       "       [10.18133371, 16.01836649],\n",
       "       [11.18237667, 12.02412925],\n",
       "       [12.73170389, 12.36127217],\n",
       "       [ 9.62164617, 14.49101091],\n",
       "       [12.23202271, 14.76786064],\n",
       "       [ 7.58050363, 14.18864981],\n",
       "       [10.11499127, 13.64945408],\n",
       "       [ 9.97409662, 13.63927841],\n",
       "       [13.01567475, 10.40130703],\n",
       "       [ 9.54683069, 13.80297376],\n",
       "       [11.31402218, 11.04423177],\n",
       "       [10.67091133, 14.60810296],\n",
       "       [12.63598651,  9.93007758],\n",
       "       [ 8.55225735, 14.97911107],\n",
       "       [ 7.33736489, 16.15029729],\n",
       "       [11.06998919, 13.07046885],\n",
       "       [ 6.10989982, 16.42215731],\n",
       "       [ 9.04327606, 11.03001959],\n",
       "       [ 9.14817366, 12.23109214],\n",
       "       [ 9.70987362, 11.39234099],\n",
       "       [ 7.73568901, 13.34330315],\n",
       "       [ 8.60839732, 12.07146496],\n",
       "       [ 7.33146173, 12.96941025],\n",
       "       [13.42994525, 12.16646614],\n",
       "       [ 8.50172532, 13.94565135],\n",
       "       [ 9.76284466, 11.80237805],\n",
       "       [ 8.06650472, 15.27737038],\n",
       "       [ 9.37808135, 11.58891803],\n",
       "       [ 9.5075097 , 13.85000553],\n",
       "       [12.94198464,  9.73855484],\n",
       "       [ 9.93887407, 14.90240361],\n",
       "       [10.26475252, 14.39230289],\n",
       "       [ 7.35183255, 13.36644381],\n",
       "       [ 9.1336127 , 13.87365789],\n",
       "       [11.72235548, 14.36844281],\n",
       "       [ 5.91761232, 16.7408001 ],\n",
       "       [12.33995468, 11.67983523],\n",
       "       [11.19415006,  9.15181684],\n",
       "       [12.29697485,  9.68253599],\n",
       "       [11.46370943, 11.64453183],\n",
       "       [ 8.90216114, 14.49701291],\n",
       "       [ 7.62084742, 15.43287324],\n",
       "       [10.92888877, 14.12770716],\n",
       "       [ 6.75044239, 15.29516035],\n",
       "       [ 8.19089969, 14.83918545],\n",
       "       [13.09560382, 12.61688126],\n",
       "       [11.83647608, 14.80177535],\n",
       "       [11.12942769, 14.33572997],\n",
       "       [ 9.55142736, 11.53693905],\n",
       "       [ 8.32811464, 15.17601617],\n",
       "       [10.02662313, 12.90534866],\n",
       "       [ 6.18621011, 16.90864649],\n",
       "       [ 9.30526716, 13.87790151],\n",
       "       [14.17656771,  7.94038353],\n",
       "       [ 8.85368982, 12.37770812],\n",
       "       [ 8.16514185, 13.48335908],\n",
       "       [11.94447785, 13.10754869],\n",
       "       [10.90804044, 13.02355278],\n",
       "       [11.23542246,  8.37521467],\n",
       "       [10.16412157, 11.67319998],\n",
       "       [ 9.27364498, 11.66811259],\n",
       "       [ 9.63467776, 15.62268791],\n",
       "       [ 7.51341899, 13.38614449],\n",
       "       [ 7.41497534, 13.58303658],\n",
       "       [ 9.80941323, 11.91247257],\n",
       "       [ 9.22391724, 14.27070353],\n",
       "       [12.45019059, 11.46747451],\n",
       "       [11.7121456 , 12.59766669],\n",
       "       [ 9.21693721, 14.55050375],\n",
       "       [ 8.07166508, 12.80679597],\n",
       "       [ 9.55879119, 13.47415243],\n",
       "       [12.11111897, 13.00338868],\n",
       "       [11.92165194, 13.80820863],\n",
       "       [10.78959727, 13.61450369],\n",
       "       [ 9.92069909, 12.74121013],\n",
       "       [12.14354107, 10.22324738],\n",
       "       [11.42475035, 13.44766053],\n",
       "       [ 6.63995423, 15.74269768],\n",
       "       [11.80088123, 12.88220411],\n",
       "       [ 9.95817258, 12.54862068],\n",
       "       [ 8.98161082, 14.54146362],\n",
       "       [12.68613612, 12.1944712 ],\n",
       "       [ 9.27085314, 13.3519469 ],\n",
       "       [11.20849772, 11.78768863]])"
      ]
     },
     "execution_count": 150,
     "metadata": {},
     "output_type": "execute_result"
    }
   ],
   "source": [
    "org_data"
   ]
  },
  {
   "cell_type": "code",
   "execution_count": 151,
   "metadata": {},
   "outputs": [
    {
     "data": {
      "image/png": "[encoded data removed]",
      "text/plain": [
       "<Figure size 432x288 with 1 Axes>"
      ]
     },
     "metadata": {
      "needs_background": "light"
     },
     "output_type": "display_data"
    }
   ],
   "source": [
    "plt.axvline(x=0, ymin=0, ymax=1, c='red')\n",
    "plt.axhline(y=0, xmin=0, xmax=1, c='red')\n",
    "sns.scatterplot(org_data[:,0], org_data[:,1])\n",
    "plt.show()"
   ]
  },
  {
   "cell_type": "code",
   "execution_count": 152,
   "metadata": {},
   "outputs": [
    {
     "data": {
      "text/plain": [
       "100"
      ]
     },
     "execution_count": 152,
     "metadata": {},
     "output_type": "execute_result"
    }
   ],
   "source": [
    "org_data.shape[0]"
   ]
  },
  {
   "cell_type": "code",
   "execution_count": 153,
   "metadata": {},
   "outputs": [
    {
     "name": "stdout",
     "output_type": "stream",
     "text": [
      "Data sau khi trừ đi mean của từng giá trị  (2,) \n",
      "\n"
     ]
    }
   ],
   "source": [
    "mean = np.mean(org_data, axis= 0)\n",
    "mean_data = org_data - mean\n",
    "print(\"Data sau khi trừ đi mean của từng giá trị \", mean.shape, \"\\n\")"
   ]
  },
  {
   "cell_type": "code",
   "execution_count": 154,
   "metadata": {},
   "outputs": [
    {
     "data": {
      "image/png": "[encoded data removed]",
      "text/plain": [
       "<Figure size 432x288 with 1 Axes>"
      ]
     },
     "metadata": {
      "needs_background": "light"
     },
     "output_type": "display_data"
    }
   ],
   "source": [
    "plt.axvline(x=0, ymin=0, ymax=1, c='red')\n",
    "plt.axhline(y=0, xmin=0, xmax=1, c='red')\n",
    "sns.scatterplot(x=mean_data[:,0], y=mean_data[:,1])\n",
    "plt.show()"
   ]
  },
  {
   "cell_type": "code",
   "execution_count": 155,
   "metadata": {},
   "outputs": [
    {
     "name": "stdout",
     "output_type": "stream",
     "text": [
      "Covariance matrix  (2, 2) \n",
      "\n"
     ]
    }
   ],
   "source": [
    "# Compute covariance matrix\n",
    "cov = np.cov(org_data.T) / org_data.shape[0]\n",
    "print(\"Covariance matrix \", cov.shape, \"\\n\")"
   ]
  },
  {
   "cell_type": "code",
   "execution_count": 156,
   "metadata": {
    "scrolled": true
   },
   "outputs": [
    {
     "data": {
      "image/png": "[encoded data removed]",
      "text/plain": [
       "<Figure size 432x288 with 1 Axes>"
      ]
     },
     "metadata": {
      "needs_background": "light"
     },
     "output_type": "display_data"
    }
   ],
   "source": [
    "org_data=np.cov(org_data)\n",
    "plt.scatter(org_data[:, 0], org_data[:, 1])\n",
    "plt.show()"
   ]
  },
  {
   "cell_type": "code",
   "execution_count": 157,
   "metadata": {},
   "outputs": [],
   "source": [
    "eig_val, eig_vec = np.linalg.eig(cov)"
   ]
  },
  {
   "cell_type": "code",
   "execution_count": 158,
   "metadata": {},
   "outputs": [],
   "source": [
    "sorted_index = eig_val.argsort()[::-1]\n",
    "eig_val = eig_val[sorted_index]\n",
    "eig_vec = eig_vec[:,sorted_index]"
   ]
  },
  {
   "cell_type": "code",
   "execution_count": 159,
   "metadata": {},
   "outputs": [],
   "source": [
    "n_components = 1"
   ]
  },
  {
   "cell_type": "code",
   "execution_count": 160,
   "metadata": {},
   "outputs": [
    {
     "name": "stdout",
     "output_type": "stream",
     "text": [
      "Transformed data  (100, 1)\n"
     ]
    }
   ],
   "source": [
    "pca_data = mean_data.dot(eig_vec[:, :n_components])\n",
    "print(\"Transformed data \", pca_data.shape)"
   ]
  },
  {
   "cell_type": "code",
   "execution_count": 161,
   "metadata": {},
   "outputs": [
    {
     "data": {
      "text/plain": [
       "array([[-0.50051202],\n",
       "       [ 1.9222072 ],\n",
       "       [-1.20111966],\n",
       "       [ 2.48447969],\n",
       "       [ 0.55123006],\n",
       "       [-0.29574765],\n",
       "       [ 0.04644258],\n",
       "       [ 0.82562279],\n",
       "       [ 3.1640378 ],\n",
       "       [-3.6517639 ],\n",
       "       [ 1.59369475],\n",
       "       [ 3.77982641],\n",
       "       [-0.60646774],\n",
       "       [-0.52725516],\n",
       "       [ 4.82124655],\n",
       "       [ 0.0780755 ],\n",
       "       [-2.13710557],\n",
       "       [ 1.48800064],\n",
       "       [ 2.28337528],\n",
       "       [-1.38622533],\n",
       "       [ 0.16893786],\n",
       "       [-2.53882404],\n",
       "       [-0.43205385],\n",
       "       [-0.51951481],\n",
       "       [ 3.92250851],\n",
       "       [-0.92844678],\n",
       "       [ 2.30053426],\n",
       "       [-0.76540429],\n",
       "       [ 4.01462944],\n",
       "       [-2.46763083],\n",
       "       [-4.15167498],\n",
       "       [ 0.63937205],\n",
       "       [-5.17991612],\n",
       "       [ 0.78032144],\n",
       "       [-0.03612714],\n",
       "       [ 0.96204998],\n",
       "       [-1.80980679],\n",
       "       [-0.2820835 ],\n",
       "       [-1.80612428],\n",
       "       [ 2.89795145],\n",
       "       [-1.73833992],\n",
       "       [ 0.69488806],\n",
       "       [-3.01538301],\n",
       "       [ 0.59318909],\n",
       "       [-0.98969262],\n",
       "       [ 4.36236919],\n",
       "       [-1.47625298],\n",
       "       [-0.87979751],\n",
       "       [-2.08565713],\n",
       "       [-1.25920725],\n",
       "       [ 0.120397  ],\n",
       "       [-5.54489945],\n",
       "       [ 2.52263354],\n",
       "       [ 3.61754157],\n",
       "       [ 3.96894569],\n",
       "       [ 1.95803291],\n",
       "       [-1.87566368],\n",
       "       [-3.43066132],\n",
       "       [-0.23666215],\n",
       "       [-3.91568133],\n",
       "       [-2.60786747],\n",
       "       [ 2.33987724],\n",
       "       [-0.12275097],\n",
       "       [-0.25513275],\n",
       "       [ 0.74843543],\n",
       "       [-2.76416745],\n",
       "       [ 0.0580031 ],\n",
       "       [-5.48781565],\n",
       "       [-1.14662944],\n",
       "       [ 6.52280297],\n",
       "       [-0.34293517],\n",
       "       [-1.62376342],\n",
       "       [ 1.20147642],\n",
       "       [ 0.56485645],\n",
       "       [ 4.21899264],\n",
       "       [ 1.06080498],\n",
       "       [ 0.46429225],\n",
       "       [-2.21334249],\n",
       "       [-1.99128338],\n",
       "       [-2.20307661],\n",
       "       [ 0.64495974],\n",
       "       [-1.49160668],\n",
       "       [ 2.7538017 ],\n",
       "       [ 1.42148038],\n",
       "       [-1.70298352],\n",
       "       [-1.18703963],\n",
       "       [-0.67750367],\n",
       "       [ 1.39074598],\n",
       "       [ 0.6685541 ],\n",
       "       [ 0.04851396],\n",
       "       [ 0.10783895],\n",
       "       [ 3.46612495],\n",
       "       [ 0.59990782],\n",
       "       [-4.32073034],\n",
       "       [ 1.2711264 ],\n",
       "       [ 0.27535408],\n",
       "       [-1.8549397 ],\n",
       "       [ 2.37586388],\n",
       "       [-0.7813369 ],\n",
       "       [ 1.68025331]])"
      ]
     },
     "execution_count": 161,
     "metadata": {},
     "output_type": "execute_result"
    }
   ],
   "source": [
    "pca_data"
   ]
  },
  {
   "cell_type": "markdown",
   "metadata": {},
   "source": [
    "EX2"
   ]
  },
  {
   "cell_type": "code",
   "execution_count": 98,
   "metadata": {},
   "outputs": [],
   "source": [
    "\n",
    "url = \"https://archive.ics.uci.edu/ml/machine-learning-databases/iris/iris.data\"\n",
    "data = pd.read_csv(url, names=['sepal length','sepal width','petal length','petal width','target'])"
   ]
  },
  {
   "cell_type": "code",
   "execution_count": 99,
   "metadata": {},
   "outputs": [
    {
     "data": {
      "text/html": [
       "<div>\n",
       "<style scoped>\n",
       "    .dataframe tbody tr th:only-of-type {\n",
       "        vertical-align: middle;\n",
       "    }\n",
       "\n",
       "    .dataframe tbody tr th {\n",
       "        vertical-align: top;\n",
       "    }\n",
       "\n",
       "    .dataframe thead th {\n",
       "        text-align: right;\n",
       "    }\n",
       "</style>\n",
       "<table border=\"1\" class=\"dataframe\">\n",
       "  <thead>\n",
       "    <tr style=\"text-align: right;\">\n",
       "      <th></th>\n",
       "      <th>sepal length</th>\n",
       "      <th>sepal width</th>\n",
       "      <th>petal length</th>\n",
       "      <th>petal width</th>\n",
       "      <th>target</th>\n",
       "    </tr>\n",
       "  </thead>\n",
       "  <tbody>\n",
       "    <tr>\n",
       "      <th>0</th>\n",
       "      <td>5.1</td>\n",
       "      <td>3.5</td>\n",
       "      <td>1.4</td>\n",
       "      <td>0.2</td>\n",
       "      <td>Iris-setosa</td>\n",
       "    </tr>\n",
       "    <tr>\n",
       "      <th>1</th>\n",
       "      <td>4.9</td>\n",
       "      <td>3.0</td>\n",
       "      <td>1.4</td>\n",
       "      <td>0.2</td>\n",
       "      <td>Iris-setosa</td>\n",
       "    </tr>\n",
       "    <tr>\n",
       "      <th>2</th>\n",
       "      <td>4.7</td>\n",
       "      <td>3.2</td>\n",
       "      <td>1.3</td>\n",
       "      <td>0.2</td>\n",
       "      <td>Iris-setosa</td>\n",
       "    </tr>\n",
       "    <tr>\n",
       "      <th>3</th>\n",
       "      <td>4.6</td>\n",
       "      <td>3.1</td>\n",
       "      <td>1.5</td>\n",
       "      <td>0.2</td>\n",
       "      <td>Iris-setosa</td>\n",
       "    </tr>\n",
       "    <tr>\n",
       "      <th>4</th>\n",
       "      <td>5.0</td>\n",
       "      <td>3.6</td>\n",
       "      <td>1.4</td>\n",
       "      <td>0.2</td>\n",
       "      <td>Iris-setosa</td>\n",
       "    </tr>\n",
       "    <tr>\n",
       "      <th>...</th>\n",
       "      <td>...</td>\n",
       "      <td>...</td>\n",
       "      <td>...</td>\n",
       "      <td>...</td>\n",
       "      <td>...</td>\n",
       "    </tr>\n",
       "    <tr>\n",
       "      <th>145</th>\n",
       "      <td>6.7</td>\n",
       "      <td>3.0</td>\n",
       "      <td>5.2</td>\n",
       "      <td>2.3</td>\n",
       "      <td>Iris-virginica</td>\n",
       "    </tr>\n",
       "    <tr>\n",
       "      <th>146</th>\n",
       "      <td>6.3</td>\n",
       "      <td>2.5</td>\n",
       "      <td>5.0</td>\n",
       "      <td>1.9</td>\n",
       "      <td>Iris-virginica</td>\n",
       "    </tr>\n",
       "    <tr>\n",
       "      <th>147</th>\n",
       "      <td>6.5</td>\n",
       "      <td>3.0</td>\n",
       "      <td>5.2</td>\n",
       "      <td>2.0</td>\n",
       "      <td>Iris-virginica</td>\n",
       "    </tr>\n",
       "    <tr>\n",
       "      <th>148</th>\n",
       "      <td>6.2</td>\n",
       "      <td>3.4</td>\n",
       "      <td>5.4</td>\n",
       "      <td>2.3</td>\n",
       "      <td>Iris-virginica</td>\n",
       "    </tr>\n",
       "    <tr>\n",
       "      <th>149</th>\n",
       "      <td>5.9</td>\n",
       "      <td>3.0</td>\n",
       "      <td>5.1</td>\n",
       "      <td>1.8</td>\n",
       "      <td>Iris-virginica</td>\n",
       "    </tr>\n",
       "  </tbody>\n",
       "</table>\n",
       "<p>150 rows × 5 columns</p>\n",
       "</div>"
      ],
      "text/plain": [
       "     sepal length  sepal width  petal length  petal width          target\n",
       "0             5.1          3.5           1.4          0.2     Iris-setosa\n",
       "1             4.9          3.0           1.4          0.2     Iris-setosa\n",
       "2             4.7          3.2           1.3          0.2     Iris-setosa\n",
       "3             4.6          3.1           1.5          0.2     Iris-setosa\n",
       "4             5.0          3.6           1.4          0.2     Iris-setosa\n",
       "..            ...          ...           ...          ...             ...\n",
       "145           6.7          3.0           5.2          2.3  Iris-virginica\n",
       "146           6.3          2.5           5.0          1.9  Iris-virginica\n",
       "147           6.5          3.0           5.2          2.0  Iris-virginica\n",
       "148           6.2          3.4           5.4          2.3  Iris-virginica\n",
       "149           5.9          3.0           5.1          1.8  Iris-virginica\n",
       "\n",
       "[150 rows x 5 columns]"
      ]
     },
     "execution_count": 99,
     "metadata": {},
     "output_type": "execute_result"
    }
   ],
   "source": [
    "data"
   ]
  },
  {
   "cell_type": "code",
   "execution_count": 104,
   "metadata": {},
   "outputs": [],
   "source": [
    "features = ['sepal length', 'sepal width', 'petal length', 'petal width']\n",
    "data = data.loc[:, features].values"
   ]
  },
  {
   "cell_type": "code",
   "execution_count": 105,
   "metadata": {},
   "outputs": [],
   "source": [
    "data = data - data.mean(axis=0)"
   ]
  },
  {
   "cell_type": "code",
   "execution_count": 107,
   "metadata": {},
   "outputs": [],
   "source": [
    "data_std = data/ np.std(data, axis=0)\n",
    "cov_mat = np.cov(data_std.T)"
   ]
  },
  {
   "cell_type": "code",
   "execution_count": 108,
   "metadata": {},
   "outputs": [
    {
     "name": "stdout",
     "output_type": "stream",
     "text": [
      "E-value: [2.93035378 0.92740362 0.14834223 0.02074601]\n",
      "E-vector [[ 0.52237162 -0.37231836 -0.72101681  0.26199559]\n",
      " [-0.26335492 -0.92555649  0.24203288 -0.12413481]\n",
      " [ 0.58125401 -0.02109478  0.14089226 -0.80115427]\n",
      " [ 0.56561105 -0.06541577  0.6338014   0.52354627]]\n"
     ]
    }
   ],
   "source": [
    "e, v = np.linalg.eig(cov_mat)\n",
    "print('E-value:', e)\n",
    "print('E-vector', v)"
   ]
  },
  {
   "cell_type": "code",
   "execution_count": 109,
   "metadata": {},
   "outputs": [
    {
     "name": "stdout",
     "output_type": "stream",
     "text": [
      "[[ 0.52237162 -0.37231836]\n",
      " [-0.26335492 -0.92555649]\n",
      " [ 0.58125401 -0.02109478]\n",
      " [ 0.56561105 -0.06541577]]\n"
     ]
    }
   ],
   "source": [
    "max_vec = v[:, e.argsort()[::-1][:2]]\n",
    "print(max_vec)"
   ]
  },
  {
   "cell_type": "code",
   "execution_count": 110,
   "metadata": {},
   "outputs": [],
   "source": [
    "data = data_std.dot(max_vec)"
   ]
  },
  {
   "cell_type": "code",
   "execution_count": 113,
   "metadata": {},
   "outputs": [
    {
     "data": {
      "text/plain": [
       "<matplotlib.axes._subplots.AxesSubplot at 0x1a3ad329788>"
      ]
     },
     "execution_count": 113,
     "metadata": {},
     "output_type": "execute_result"
    },
    {
     "data": {
      "image/png": "[encoded data removed]",
      "text/plain": [
       "<Figure size 432x288 with 1 Axes>"
      ]
     },
     "metadata": {
      "needs_background": "light"
     },
     "output_type": "display_data"
    }
   ],
   "source": [
    "sns.scatterplot(data[:,0], data[:,1])"
   ]
  },
  {
   "cell_type": "markdown",
   "metadata": {},
   "source": [
    "EX3"
   ]
  },
  {
   "cell_type": "code",
   "execution_count": 117,
   "metadata": {},
   "outputs": [],
   "source": [
    "from sklearn.decomposition import PCA\n",
    "pca = PCA(n_components=2)\n",
    "data_new = pca.fit_transform(data)"
   ]
  },
  {
   "cell_type": "code",
   "execution_count": 119,
   "metadata": {},
   "outputs": [
    {
     "data": {
      "image/png": "[encoded data removed]",
      "text/plain": [
       "<Figure size 432x288 with 1 Axes>"
      ]
     },
     "metadata": {
      "needs_background": "light"
     },
     "output_type": "display_data"
    }
   ],
   "source": [
    "plt.scatter(data_new[:,0], data_new[:,1])\n",
    "plt.axvline(x=0, ymin=0, ymax=1, lw=1.5, label='boudary', c='red')\n",
    "plt.axhline(y=0, xmin=0, xmax=1, lw=1.5, c='red')\n",
    "plt.show()"
   ]
  },
  {
   "cell_type": "code",
   "execution_count": null,
   "metadata": {},
   "outputs": [],
   "source": []
  }
 ],
 "metadata": {
  "kernelspec": {
   "display_name": "Python 3",
   "language": "python",
   "name": "python3"
  },
  "language_info": {
   "codemirror_mode": {
    "name": "ipython",
    "version": 3
   },
   "file_extension": ".py",
   "mimetype": "text/x-python",
   "name": "python",
   "nbconvert_exporter": "python",
   "pygments_lexer": "ipython3",
   "version": "3.7.6"
  }
 },
 "nbformat": 4,
 "nbformat_minor": 4
}
